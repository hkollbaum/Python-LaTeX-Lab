{
  "nbformat": 4,
  "nbformat_minor": 0,
  "metadata": {
    "colab": {
      "name": "PythonLab.ipynb",
      "provenance": [],
      "collapsed_sections": []
    },
    "kernelspec": {
      "name": "python3",
      "display_name": "Python 3"
    }
  },
  "cells": [
    {
      "cell_type": "code",
      "metadata": {
        "id": "aV8NYqRHssgf",
        "outputId": "fa2d1473-cca3-4736-f131-520abf09e598",
        "colab": {
          "base_uri": "https://localhost:8080/",
          "height": 69
        }
      },
      "source": [
        "import numpy as np\n",
        "\n",
        "# Rules\n",
        "\n",
        "def Rule1(dA,A,Q): \n",
        "  dQ = Q*(dA/A)     \n",
        "  return dQ\n",
        "\n",
        "def Rule2(Q,m,dA,A):\n",
        "  dQ = Q*m*(dA/A)\n",
        "  return dQ\n",
        "\n",
        "def Rule3(dA,dB):\n",
        "  dQ = np.sqrt(dA**2 + dB**2)\n",
        "  return dQ\n",
        "\n",
        "def Rule4(Q, m, dA, A, n, dB, B):\n",
        "  dQ = Q*np.sqrt((m*(dA/A))**2 + (n*(dB/B))**2)\n",
        "  return dQ\n",
        "\n",
        "# Error Calculations\n",
        "\n",
        "error1 = Rule4(.783, 1, .0001, .2083, -1, .31, 10.4)\n",
        "print(\"Error in Force =\", error1)\n",
        "\n",
        "# Average/Error in Mean Calculations\n",
        "\n",
        "X = np.array([1.1,1.3,1.4,0.9,0.95,1.05])\n",
        "Xnew = np.average(X)\n",
        "print(\"Average =\", Xnew)\n",
        "\n",
        "Xnew2 = np.std(X)/np.sqrt(6)\n",
        "print(\"Error in the mean =\", Xnew2)"
      ],
      "execution_count": 1,
      "outputs": [
        {
          "output_type": "stream",
          "text": [
            "Error in Force = 0.023342449967428142\n",
            "Average = 1.1166666666666667\n",
            "Error in the mean = 0.073282810879294\n"
          ],
          "name": "stdout"
        }
      ]
    },
    {
      "cell_type": "markdown",
      "metadata": {
        "id": "swOIrlzIIS85"
      },
      "source": [
        "$\\delta Q = \\sqrt{\\delta A^{2} + \\delta B^{2}}$\n",
        "\n",
        "$\\delta F_{c} = F_{c} \\sqrt{(\\frac{.0001 kg}{.2083 kg})^{2} + (\\frac{.31}{10.4})^{2}} $\n"
      ]
    }
  ]
}